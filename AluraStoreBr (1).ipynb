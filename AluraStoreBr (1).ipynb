{
  "nbformat": 4,
  "nbformat_minor": 0,
  "metadata": {
    "colab": {
      "provenance": [],
      "include_colab_link": true
    },
    "kernelspec": {
      "name": "python3",
      "display_name": "Python 3"
    },
    "language_info": {
      "name": "python"
    }
  },
  "cells": [
    {
      "cell_type": "markdown",
      "metadata": {
        "id": "view-in-github",
        "colab_type": "text"
      },
      "source": [
        "<a href=\"https://colab.research.google.com/github/joseffilho/Desafio-Classes-Felipao/blob/main/AluraStoreBr.ipynb\" target=\"_parent\"><img src=\"https://colab.research.google.com/assets/colab-badge.svg\" alt=\"Open In Colab\"/></a>"
      ]
    },
    {
      "cell_type": "markdown",
      "source": [
        "### Importação dos dados\n",
        "\n"
      ],
      "metadata": {
        "id": "RhEdWd9YUR6H"
      }
    },
    {
      "cell_type": "code",
      "execution_count": 1,
      "metadata": {
        "colab": {
          "base_uri": "https://localhost:8080/",
          "height": 365
        },
        "id": "T3EvaeQ_INIL",
        "outputId": "d3b54464-196f-4e66-ec41-65d15e651849"
      },
      "outputs": [
        {
          "output_type": "execute_result",
          "data": {
            "text/plain": [
              "                 Produto Categoria do Produto    Preço      Frete  \\\n",
              "0     Assistente virtual          eletronicos   219.08   9.249790   \n",
              "1         Mesa de jantar               moveis   256.35  11.234305   \n",
              "2      Jogo de tabuleiro           brinquedos   279.51  21.262681   \n",
              "3            Micro-ondas     eletrodomesticos  1009.99  54.667344   \n",
              "4  Cadeira de escritório               moveis   446.99  26.964689   \n",
              "\n",
              "  Data da Compra        Vendedor Local da compra  Avaliação da compra  \\\n",
              "0     16/01/2021     Pedro Gomes              SP                    4   \n",
              "1     18/05/2022  Beatriz Moraes              RJ                    1   \n",
              "2     15/03/2021      João Souza              DF                    1   \n",
              "3     03/05/2022      João Souza              RS                    4   \n",
              "4     07/11/2020   Larissa Alves              MG                    5   \n",
              "\n",
              "  Tipo de pagamento  Quantidade de parcelas    lat    lon  \n",
              "0    cartao_credito                       8 -22.19 -48.79  \n",
              "1    cartao_credito                       4 -22.25 -42.66  \n",
              "2    cartao_credito                       1 -15.83 -47.86  \n",
              "3            boleto                       1 -30.17 -53.50  \n",
              "4            boleto                       1 -18.10 -44.38  "
            ],
            "text/html": [
              "\n",
              "  <div id=\"df-c1ca45a2-600e-49f7-9fc4-8760b3f005c9\" class=\"colab-df-container\">\n",
              "    <div>\n",
              "<style scoped>\n",
              "    .dataframe tbody tr th:only-of-type {\n",
              "        vertical-align: middle;\n",
              "    }\n",
              "\n",
              "    .dataframe tbody tr th {\n",
              "        vertical-align: top;\n",
              "    }\n",
              "\n",
              "    .dataframe thead th {\n",
              "        text-align: right;\n",
              "    }\n",
              "</style>\n",
              "<table border=\"1\" class=\"dataframe\">\n",
              "  <thead>\n",
              "    <tr style=\"text-align: right;\">\n",
              "      <th></th>\n",
              "      <th>Produto</th>\n",
              "      <th>Categoria do Produto</th>\n",
              "      <th>Preço</th>\n",
              "      <th>Frete</th>\n",
              "      <th>Data da Compra</th>\n",
              "      <th>Vendedor</th>\n",
              "      <th>Local da compra</th>\n",
              "      <th>Avaliação da compra</th>\n",
              "      <th>Tipo de pagamento</th>\n",
              "      <th>Quantidade de parcelas</th>\n",
              "      <th>lat</th>\n",
              "      <th>lon</th>\n",
              "    </tr>\n",
              "  </thead>\n",
              "  <tbody>\n",
              "    <tr>\n",
              "      <th>0</th>\n",
              "      <td>Assistente virtual</td>\n",
              "      <td>eletronicos</td>\n",
              "      <td>219.08</td>\n",
              "      <td>9.249790</td>\n",
              "      <td>16/01/2021</td>\n",
              "      <td>Pedro Gomes</td>\n",
              "      <td>SP</td>\n",
              "      <td>4</td>\n",
              "      <td>cartao_credito</td>\n",
              "      <td>8</td>\n",
              "      <td>-22.19</td>\n",
              "      <td>-48.79</td>\n",
              "    </tr>\n",
              "    <tr>\n",
              "      <th>1</th>\n",
              "      <td>Mesa de jantar</td>\n",
              "      <td>moveis</td>\n",
              "      <td>256.35</td>\n",
              "      <td>11.234305</td>\n",
              "      <td>18/05/2022</td>\n",
              "      <td>Beatriz Moraes</td>\n",
              "      <td>RJ</td>\n",
              "      <td>1</td>\n",
              "      <td>cartao_credito</td>\n",
              "      <td>4</td>\n",
              "      <td>-22.25</td>\n",
              "      <td>-42.66</td>\n",
              "    </tr>\n",
              "    <tr>\n",
              "      <th>2</th>\n",
              "      <td>Jogo de tabuleiro</td>\n",
              "      <td>brinquedos</td>\n",
              "      <td>279.51</td>\n",
              "      <td>21.262681</td>\n",
              "      <td>15/03/2021</td>\n",
              "      <td>João Souza</td>\n",
              "      <td>DF</td>\n",
              "      <td>1</td>\n",
              "      <td>cartao_credito</td>\n",
              "      <td>1</td>\n",
              "      <td>-15.83</td>\n",
              "      <td>-47.86</td>\n",
              "    </tr>\n",
              "    <tr>\n",
              "      <th>3</th>\n",
              "      <td>Micro-ondas</td>\n",
              "      <td>eletrodomesticos</td>\n",
              "      <td>1009.99</td>\n",
              "      <td>54.667344</td>\n",
              "      <td>03/05/2022</td>\n",
              "      <td>João Souza</td>\n",
              "      <td>RS</td>\n",
              "      <td>4</td>\n",
              "      <td>boleto</td>\n",
              "      <td>1</td>\n",
              "      <td>-30.17</td>\n",
              "      <td>-53.50</td>\n",
              "    </tr>\n",
              "    <tr>\n",
              "      <th>4</th>\n",
              "      <td>Cadeira de escritório</td>\n",
              "      <td>moveis</td>\n",
              "      <td>446.99</td>\n",
              "      <td>26.964689</td>\n",
              "      <td>07/11/2020</td>\n",
              "      <td>Larissa Alves</td>\n",
              "      <td>MG</td>\n",
              "      <td>5</td>\n",
              "      <td>boleto</td>\n",
              "      <td>1</td>\n",
              "      <td>-18.10</td>\n",
              "      <td>-44.38</td>\n",
              "    </tr>\n",
              "  </tbody>\n",
              "</table>\n",
              "</div>\n",
              "    <div class=\"colab-df-buttons\">\n",
              "\n",
              "  <div class=\"colab-df-container\">\n",
              "    <button class=\"colab-df-convert\" onclick=\"convertToInteractive('df-c1ca45a2-600e-49f7-9fc4-8760b3f005c9')\"\n",
              "            title=\"Convert this dataframe to an interactive table.\"\n",
              "            style=\"display:none;\">\n",
              "\n",
              "  <svg xmlns=\"http://www.w3.org/2000/svg\" height=\"24px\" viewBox=\"0 -960 960 960\">\n",
              "    <path d=\"M120-120v-720h720v720H120Zm60-500h600v-160H180v160Zm220 220h160v-160H400v160Zm0 220h160v-160H400v160ZM180-400h160v-160H180v160Zm440 0h160v-160H620v160ZM180-180h160v-160H180v160Zm440 0h160v-160H620v160Z\"/>\n",
              "  </svg>\n",
              "    </button>\n",
              "\n",
              "  <style>\n",
              "    .colab-df-container {\n",
              "      display:flex;\n",
              "      gap: 12px;\n",
              "    }\n",
              "\n",
              "    .colab-df-convert {\n",
              "      background-color: #E8F0FE;\n",
              "      border: none;\n",
              "      border-radius: 50%;\n",
              "      cursor: pointer;\n",
              "      display: none;\n",
              "      fill: #1967D2;\n",
              "      height: 32px;\n",
              "      padding: 0 0 0 0;\n",
              "      width: 32px;\n",
              "    }\n",
              "\n",
              "    .colab-df-convert:hover {\n",
              "      background-color: #E2EBFA;\n",
              "      box-shadow: 0px 1px 2px rgba(60, 64, 67, 0.3), 0px 1px 3px 1px rgba(60, 64, 67, 0.15);\n",
              "      fill: #174EA6;\n",
              "    }\n",
              "\n",
              "    .colab-df-buttons div {\n",
              "      margin-bottom: 4px;\n",
              "    }\n",
              "\n",
              "    [theme=dark] .colab-df-convert {\n",
              "      background-color: #3B4455;\n",
              "      fill: #D2E3FC;\n",
              "    }\n",
              "\n",
              "    [theme=dark] .colab-df-convert:hover {\n",
              "      background-color: #434B5C;\n",
              "      box-shadow: 0px 1px 3px 1px rgba(0, 0, 0, 0.15);\n",
              "      filter: drop-shadow(0px 1px 2px rgba(0, 0, 0, 0.3));\n",
              "      fill: #FFFFFF;\n",
              "    }\n",
              "  </style>\n",
              "\n",
              "    <script>\n",
              "      const buttonEl =\n",
              "        document.querySelector('#df-c1ca45a2-600e-49f7-9fc4-8760b3f005c9 button.colab-df-convert');\n",
              "      buttonEl.style.display =\n",
              "        google.colab.kernel.accessAllowed ? 'block' : 'none';\n",
              "\n",
              "      async function convertToInteractive(key) {\n",
              "        const element = document.querySelector('#df-c1ca45a2-600e-49f7-9fc4-8760b3f005c9');\n",
              "        const dataTable =\n",
              "          await google.colab.kernel.invokeFunction('convertToInteractive',\n",
              "                                                    [key], {});\n",
              "        if (!dataTable) return;\n",
              "\n",
              "        const docLinkHtml = 'Like what you see? Visit the ' +\n",
              "          '<a target=\"_blank\" href=https://colab.research.google.com/notebooks/data_table.ipynb>data table notebook</a>'\n",
              "          + ' to learn more about interactive tables.';\n",
              "        element.innerHTML = '';\n",
              "        dataTable['output_type'] = 'display_data';\n",
              "        await google.colab.output.renderOutput(dataTable, element);\n",
              "        const docLink = document.createElement('div');\n",
              "        docLink.innerHTML = docLinkHtml;\n",
              "        element.appendChild(docLink);\n",
              "      }\n",
              "    </script>\n",
              "  </div>\n",
              "\n",
              "\n",
              "<div id=\"df-20f26a0d-c5bc-4b67-ac36-38ad3a7bcac2\">\n",
              "  <button class=\"colab-df-quickchart\" onclick=\"quickchart('df-20f26a0d-c5bc-4b67-ac36-38ad3a7bcac2')\"\n",
              "            title=\"Suggest charts\"\n",
              "            style=\"display:none;\">\n",
              "\n",
              "<svg xmlns=\"http://www.w3.org/2000/svg\" height=\"24px\"viewBox=\"0 0 24 24\"\n",
              "     width=\"24px\">\n",
              "    <g>\n",
              "        <path d=\"M19 3H5c-1.1 0-2 .9-2 2v14c0 1.1.9 2 2 2h14c1.1 0 2-.9 2-2V5c0-1.1-.9-2-2-2zM9 17H7v-7h2v7zm4 0h-2V7h2v10zm4 0h-2v-4h2v4z\"/>\n",
              "    </g>\n",
              "</svg>\n",
              "  </button>\n",
              "\n",
              "<style>\n",
              "  .colab-df-quickchart {\n",
              "      --bg-color: #E8F0FE;\n",
              "      --fill-color: #1967D2;\n",
              "      --hover-bg-color: #E2EBFA;\n",
              "      --hover-fill-color: #174EA6;\n",
              "      --disabled-fill-color: #AAA;\n",
              "      --disabled-bg-color: #DDD;\n",
              "  }\n",
              "\n",
              "  [theme=dark] .colab-df-quickchart {\n",
              "      --bg-color: #3B4455;\n",
              "      --fill-color: #D2E3FC;\n",
              "      --hover-bg-color: #434B5C;\n",
              "      --hover-fill-color: #FFFFFF;\n",
              "      --disabled-bg-color: #3B4455;\n",
              "      --disabled-fill-color: #666;\n",
              "  }\n",
              "\n",
              "  .colab-df-quickchart {\n",
              "    background-color: var(--bg-color);\n",
              "    border: none;\n",
              "    border-radius: 50%;\n",
              "    cursor: pointer;\n",
              "    display: none;\n",
              "    fill: var(--fill-color);\n",
              "    height: 32px;\n",
              "    padding: 0;\n",
              "    width: 32px;\n",
              "  }\n",
              "\n",
              "  .colab-df-quickchart:hover {\n",
              "    background-color: var(--hover-bg-color);\n",
              "    box-shadow: 0 1px 2px rgba(60, 64, 67, 0.3), 0 1px 3px 1px rgba(60, 64, 67, 0.15);\n",
              "    fill: var(--button-hover-fill-color);\n",
              "  }\n",
              "\n",
              "  .colab-df-quickchart-complete:disabled,\n",
              "  .colab-df-quickchart-complete:disabled:hover {\n",
              "    background-color: var(--disabled-bg-color);\n",
              "    fill: var(--disabled-fill-color);\n",
              "    box-shadow: none;\n",
              "  }\n",
              "\n",
              "  .colab-df-spinner {\n",
              "    border: 2px solid var(--fill-color);\n",
              "    border-color: transparent;\n",
              "    border-bottom-color: var(--fill-color);\n",
              "    animation:\n",
              "      spin 1s steps(1) infinite;\n",
              "  }\n",
              "\n",
              "  @keyframes spin {\n",
              "    0% {\n",
              "      border-color: transparent;\n",
              "      border-bottom-color: var(--fill-color);\n",
              "      border-left-color: var(--fill-color);\n",
              "    }\n",
              "    20% {\n",
              "      border-color: transparent;\n",
              "      border-left-color: var(--fill-color);\n",
              "      border-top-color: var(--fill-color);\n",
              "    }\n",
              "    30% {\n",
              "      border-color: transparent;\n",
              "      border-left-color: var(--fill-color);\n",
              "      border-top-color: var(--fill-color);\n",
              "      border-right-color: var(--fill-color);\n",
              "    }\n",
              "    40% {\n",
              "      border-color: transparent;\n",
              "      border-right-color: var(--fill-color);\n",
              "      border-top-color: var(--fill-color);\n",
              "    }\n",
              "    60% {\n",
              "      border-color: transparent;\n",
              "      border-right-color: var(--fill-color);\n",
              "    }\n",
              "    80% {\n",
              "      border-color: transparent;\n",
              "      border-right-color: var(--fill-color);\n",
              "      border-bottom-color: var(--fill-color);\n",
              "    }\n",
              "    90% {\n",
              "      border-color: transparent;\n",
              "      border-bottom-color: var(--fill-color);\n",
              "    }\n",
              "  }\n",
              "</style>\n",
              "\n",
              "  <script>\n",
              "    async function quickchart(key) {\n",
              "      const quickchartButtonEl =\n",
              "        document.querySelector('#' + key + ' button');\n",
              "      quickchartButtonEl.disabled = true;  // To prevent multiple clicks.\n",
              "      quickchartButtonEl.classList.add('colab-df-spinner');\n",
              "      try {\n",
              "        const charts = await google.colab.kernel.invokeFunction(\n",
              "            'suggestCharts', [key], {});\n",
              "      } catch (error) {\n",
              "        console.error('Error during call to suggestCharts:', error);\n",
              "      }\n",
              "      quickchartButtonEl.classList.remove('colab-df-spinner');\n",
              "      quickchartButtonEl.classList.add('colab-df-quickchart-complete');\n",
              "    }\n",
              "    (() => {\n",
              "      let quickchartButtonEl =\n",
              "        document.querySelector('#df-20f26a0d-c5bc-4b67-ac36-38ad3a7bcac2 button');\n",
              "      quickchartButtonEl.style.display =\n",
              "        google.colab.kernel.accessAllowed ? 'block' : 'none';\n",
              "    })();\n",
              "  </script>\n",
              "</div>\n",
              "\n",
              "    </div>\n",
              "  </div>\n"
            ],
            "application/vnd.google.colaboratory.intrinsic+json": {
              "type": "dataframe",
              "variable_name": "loja",
              "summary": "{\n  \"name\": \"loja\",\n  \"rows\": 2359,\n  \"fields\": [\n    {\n      \"column\": \"Produto\",\n      \"properties\": {\n        \"dtype\": \"category\",\n        \"num_unique_values\": 51,\n        \"samples\": [\n          \"Viol\\u00e3o\",\n          \"Bola de basquete\",\n          \"Smartwatch\"\n        ],\n        \"semantic_type\": \"\",\n        \"description\": \"\"\n      }\n    },\n    {\n      \"column\": \"Categoria do Produto\",\n      \"properties\": {\n        \"dtype\": \"category\",\n        \"num_unique_values\": 8,\n        \"samples\": [\n          \"moveis\",\n          \"esporte e lazer\",\n          \"eletronicos\"\n        ],\n        \"semantic_type\": \"\",\n        \"description\": \"\"\n      }\n    },\n    {\n      \"column\": \"Pre\\u00e7o\",\n      \"properties\": {\n        \"dtype\": \"number\",\n        \"std\": 819.5827782539145,\n        \"min\": 10.07,\n        \"max\": 3969.38,\n        \"num_unique_values\": 2315,\n        \"samples\": [\n          446.11,\n          107.31,\n          65.86\n        ],\n        \"semantic_type\": \"\",\n        \"description\": \"\"\n      }\n    },\n    {\n      \"column\": \"Frete\",\n      \"properties\": {\n        \"dtype\": \"number\",\n        \"std\": 43.814183327408166,\n        \"min\": 0.0,\n        \"max\": 214.3770604781,\n        \"num_unique_values\": 2149,\n        \"samples\": [\n          83.815279607,\n          16.069664669,\n          14.0344876928\n        ],\n        \"semantic_type\": \"\",\n        \"description\": \"\"\n      }\n    },\n    {\n      \"column\": \"Data da Compra\",\n      \"properties\": {\n        \"dtype\": \"object\",\n        \"num_unique_values\": 1018,\n        \"samples\": [\n          \"15/09/2022\",\n          \"03/06/2020\",\n          \"06/11/2021\"\n        ],\n        \"semantic_type\": \"\",\n        \"description\": \"\"\n      }\n    },\n    {\n      \"column\": \"Vendedor\",\n      \"properties\": {\n        \"dtype\": \"category\",\n        \"num_unique_values\": 14,\n        \"samples\": [\n          \"Juliana Costa\",\n          \"Mariana Ferreira\",\n          \"Pedro Gomes\"\n        ],\n        \"semantic_type\": \"\",\n        \"description\": \"\"\n      }\n    },\n    {\n      \"column\": \"Local da compra\",\n      \"properties\": {\n        \"dtype\": \"category\",\n        \"num_unique_values\": 26,\n        \"samples\": [\n          \"TO\",\n          \"RN\",\n          \"SP\"\n        ],\n        \"semantic_type\": \"\",\n        \"description\": \"\"\n      }\n    },\n    {\n      \"column\": \"Avalia\\u00e7\\u00e3o da compra\",\n      \"properties\": {\n        \"dtype\": \"number\",\n        \"std\": 1,\n        \"min\": 1,\n        \"max\": 5,\n        \"num_unique_values\": 5,\n        \"samples\": [\n          1,\n          2,\n          5\n        ],\n        \"semantic_type\": \"\",\n        \"description\": \"\"\n      }\n    },\n    {\n      \"column\": \"Tipo de pagamento\",\n      \"properties\": {\n        \"dtype\": \"category\",\n        \"num_unique_values\": 4,\n        \"samples\": [\n          \"boleto\",\n          \"cartao_debito\",\n          \"cartao_credito\"\n        ],\n        \"semantic_type\": \"\",\n        \"description\": \"\"\n      }\n    },\n    {\n      \"column\": \"Quantidade de parcelas\",\n      \"properties\": {\n        \"dtype\": \"number\",\n        \"std\": 2,\n        \"min\": 1,\n        \"max\": 24,\n        \"num_unique_values\": 15,\n        \"samples\": [\n          7,\n          14,\n          8\n        ],\n        \"semantic_type\": \"\",\n        \"description\": \"\"\n      }\n    },\n    {\n      \"column\": \"lat\",\n      \"properties\": {\n        \"dtype\": \"number\",\n        \"std\": 5.372399916530833,\n        \"min\": -30.17,\n        \"max\": 1.41,\n        \"num_unique_values\": 26,\n        \"samples\": [\n          -9.46,\n          -5.81,\n          -22.19\n        ],\n        \"semantic_type\": \"\",\n        \"description\": \"\"\n      }\n    },\n    {\n      \"column\": \"lon\",\n      \"properties\": {\n        \"dtype\": \"number\",\n        \"std\": 4.183180020544179,\n        \"min\": -70.55,\n        \"max\": -36.59,\n        \"num_unique_values\": 26,\n        \"samples\": [\n          -48.26,\n          -36.59,\n          -48.79\n        ],\n        \"semantic_type\": \"\",\n        \"description\": \"\"\n      }\n    }\n  ]\n}"
            }
          },
          "metadata": {},
          "execution_count": 1
        }
      ],
      "source": [
        "import pandas as pd\n",
        "\n",
        "url = \"https://raw.githubusercontent.com/alura-es-cursos/challenge1-data-science/refs/heads/main/base-de-dados-challenge-1/loja_1.csv\"\n",
        "url2 = \"https://raw.githubusercontent.com/alura-es-cursos/challenge1-data-science/refs/heads/main/base-de-dados-challenge-1/loja_2.csv\"\n",
        "url3 = \"https://raw.githubusercontent.com/alura-es-cursos/challenge1-data-science/refs/heads/main/base-de-dados-challenge-1/loja_3.csv\"\n",
        "url4 = \"https://raw.githubusercontent.com/alura-es-cursos/challenge1-data-science/refs/heads/main/base-de-dados-challenge-1/loja_4.csv\"\n",
        "\n",
        "loja = pd.read_csv(url)\n",
        "loja2 = pd.read_csv(url2)\n",
        "loja3 = pd.read_csv(url3)\n",
        "loja4 = pd.read_csv(url4)\n",
        "\n",
        "loja.head()"
      ]
    },
    {
      "cell_type": "markdown",
      "source": [
        "#1. Análise do faturamento\n"
      ],
      "metadata": {
        "id": "X62IW3KFUIYm"
      }
    },
    {
      "cell_type": "code",
      "source": [
        "df = pd.DataFrame(loja.head())\n",
        "df2 = pd.DataFrame(loja2.head())\n",
        "df3 = pd.DataFrame(loja3.head())\n",
        "df4 = pd.DataFrame(loja4.head())\n",
        "\n",
        "faturamento_loja = df['Preço'].sum()\n",
        "print(f'Faturamento loja: {faturamento_loja: .2f}')\n",
        "\n",
        "faturamento_loja2 = df2['Preço'].sum()\n",
        "print(f'Faturamento loja2: {faturamento_loja2: .2f}')\n",
        "\n",
        "faturamento_loja3 = df3['Preço'].sum()\n",
        "print(f'Faturamento loja3: {faturamento_loja3: .2f}')\n",
        "\n",
        "faturamento_loja4 = df4['Preço'].sum()\n",
        "print(f'Faturamento loja4: {faturamento_loja4: .2f}')"
      ],
      "metadata": {
        "id": "xykobSftV64I",
        "colab": {
          "base_uri": "https://localhost:8080/"
        },
        "outputId": "a9283c53-8b6a-44b4-f03a-b2f01f0a4d84"
      },
      "execution_count": 2,
      "outputs": [
        {
          "output_type": "stream",
          "name": "stdout",
          "text": [
            "Faturamento loja:  2211.92\n",
            "Faturamento loja2:  2810.35\n",
            "Faturamento loja3:  3278.09\n",
            "Faturamento loja4:  2371.77\n"
          ]
        }
      ]
    },
    {
      "cell_type": "code",
      "source": [
        "import matplotlib.pyplot as plt\n",
        "\n",
        "lojas = ['Loja', 'Loja 2', 'Loja 3', 'Loja 4']\n",
        "faturamento = [faturamento_loja, faturamento_loja2, faturamento_loja3, faturamento_loja4]\n",
        "\n",
        "plt.figure(figsize=(8, 5))\n",
        "plt.bar(lojas, faturamento, color=['blue', 'green', 'red', 'purple'])\n",
        "plt.xlabel('Lojas')\n",
        "plt.ylabel('Faturamento (R$)')\n",
        "plt.title('Faturamento Total por Loja')\n",
        "plt.show()"
      ],
      "metadata": {
        "id": "KDyr8E71V3m-",
        "colab": {
          "base_uri": "https://localhost:8080/",
          "height": 487
        },
        "outputId": "947257b2-4484-4d4e-9988-535d921a83ff"
      },
      "execution_count": 3,
      "outputs": [
        {
          "output_type": "display_data",
          "data": {
            "text/plain": [
              "<Figure size 800x500 with 1 Axes>"
            ],
            "image/png": "[encoded data removed]"
          },
          "metadata": {}
        }
      ]
    },
    {
      "cell_type": "markdown",
      "source": [
        "# 2. Vendas por Categoria\n"
      ],
      "metadata": {
        "id": "2V_vcAPzWZmR"
      }
    },
    {
      "cell_type": "code",
      "source": [
        "vendas_por_categoria_loja = df.groupby('Categoria do Produto')['Preço'].sum()\n",
        "vendas_por_categoria_loja2 = df2.groupby('Categoria do Produto')['Preço'].sum()\n",
        "vendas_por_categoria_loja3 = df3.groupby('Categoria do Produto')['Preço'].sum()\n",
        "vendas_por_categoria_loja4 = df4.groupby('Categoria do Produto')['Preço'].sum()\n",
        "\n",
        "print(vendas_por_categoria_loja)\n",
        "print(vendas_por_categoria_loja2)\n",
        "print(vendas_por_categoria_loja3)\n",
        "print(vendas_por_categoria_loja4)"
      ],
      "metadata": {
        "id": "A34YupIuYhfF",
        "colab": {
          "base_uri": "https://localhost:8080/"
        },
        "outputId": "f33fa1f6-9777-4007-91b7-ec22103fa633"
      },
      "execution_count": 4,
      "outputs": [
        {
          "output_type": "stream",
          "name": "stdout",
          "text": [
            "Categoria do Produto\n",
            "brinquedos           279.51\n",
            "eletrodomesticos    1009.99\n",
            "eletronicos          219.08\n",
            "moveis               703.34\n",
            "Name: Preço, dtype: float64\n",
            "Categoria do Produto\n",
            "instrumentos musicais     102.37\n",
            "moveis                   2707.98\n",
            "Name: Preço, dtype: float64\n",
            "Categoria do Produto\n",
            "eletrodomesticos         1713.50\n",
            "esporte e lazer            78.40\n",
            "instrumentos musicais     404.62\n",
            "moveis                   1081.57\n",
            "Name: Preço, dtype: float64\n",
            "Categoria do Produto\n",
            "eletrodomesticos    1446.46\n",
            "eletronicos          185.14\n",
            "esporte e lazer       31.54\n",
            "livros                76.93\n",
            "moveis               631.70\n",
            "Name: Preço, dtype: float64\n"
          ]
        }
      ]
    },
    {
      "cell_type": "code",
      "source": [
        "categorias = ['Eletrônicos', 'Móveis', 'Brinquedos', 'Eletrodomésticos']\n",
        "vendas_por_categoria = [\n",
        "    vendas_por_categoria_loja.sum(),\n",
        "    vendas_por_categoria_loja2.sum(),\n",
        "    vendas_por_categoria_loja3.sum(),\n",
        "    vendas_por_categoria_loja4.sum()\n",
        "]\n",
        "\n",
        "plt.figure(figsize=(7, 7))\n",
        "plt.pie(vendas_por_categoria, labels=categorias, autopct='%1.1f%%', colors=['gold', 'lightblue', 'salmon', 'lightgreen'])\n",
        "plt.title('Distribuição das Categorias de produtos')\n",
        "plt.show()"
      ],
      "metadata": {
        "id": "yZR6cOjXYSk1",
        "colab": {
          "base_uri": "https://localhost:8080/",
          "height": 598
        },
        "outputId": "b9483e9d-b530-454a-ff56-7743b28d1405"
      },
      "execution_count": 5,
      "outputs": [
        {
          "output_type": "display_data",
          "data": {
            "text/plain": [
              "<Figure size 700x700 with 1 Axes>"
            ],
            "image/png": "[encoded data removed]"
          },
          "metadata": {}
        }
      ]
    },
    {
      "cell_type": "markdown",
      "source": [
        "# 3. Média de Avaliação das Lojas"
      ],
      "metadata": {
        "id": "Rq6tU_xSY3jk"
      }
    },
    {
      "cell_type": "code",
      "source": [
        "media_avaliacao_loja = df['Avaliação da compra'].mean()\n",
        "media_avaliacao_loja2 = df2['Avaliação da compra'].mean()\n",
        "media_avaliacao_loja3 = df3['Avaliação da compra'].mean()\n",
        "media_avaliacao_loja4 = df4['Avaliação da compra'].mean()\n",
        "\n",
        "print(f'Média de avaliação - loja: {media_avaliacao_loja: .2f}')\n",
        "print(f'Média de avaliação - loja2: {media_avaliacao_loja2: .2f}')\n",
        "print(f'Média de avaliação - loja3: {media_avaliacao_loja3: .2f}')\n",
        "print(f'Média de avaliação - loja4: {media_avaliacao_loja4: .2f}')"
      ],
      "metadata": {
        "id": "bh3jjjJwY5MU",
        "colab": {
          "base_uri": "https://localhost:8080/"
        },
        "outputId": "5b6a566a-5f55-454f-b262-b522be95d4f7"
      },
      "execution_count": 6,
      "outputs": [
        {
          "output_type": "stream",
          "name": "stdout",
          "text": [
            "Média de avaliação - loja:  3.00\n",
            "Média de avaliação - loja2:  3.60\n",
            "Média de avaliação - loja3:  3.40\n",
            "Média de avaliação - loja4:  4.20\n"
          ]
        }
      ]
    },
    {
      "cell_type": "code",
      "source": [],
      "metadata": {
        "id": "I0KkjPoTY88F"
      },
      "execution_count": 6,
      "outputs": []
    },
    {
      "cell_type": "markdown",
      "source": [
        "# 4. Produtos Mais e Menos Vendidos"
      ],
      "metadata": {
        "id": "DmNp1KPBZCm-"
      }
    },
    {
      "cell_type": "code",
      "source": [
        "produtos_vendidos_loja = df['Produto'].value_counts()\n",
        "produtos_vendidos_loja2 = df2['Produto'].value_counts()\n",
        "produtos_vendidos_loja3 = df3['Produto'].value_counts()\n",
        "produtos_vendidos_loja4 = df4['Produto'].value_counts()\n",
        "\n",
        "mais_vendido_loja = produtos_vendidos_loja.head()\n",
        "print('Produtos mais vendidos loja:')\n",
        "print(mais_vendido_loja)\n",
        "\n",
        "mais_vendido_loja2 = produtos_vendidos_loja2.head()\n",
        "print('Produtos mais vendidos loja2:')\n",
        "print(mais_vendido_loja2)\n",
        "\n",
        "mais_vendido_loja3 = produtos_vendidos_loja3.head()\n",
        "print('Produtos mais vendidos loja3:')\n",
        "print(mais_vendido_loja3)\n",
        "\n",
        "mais_vendido_loja4 = produtos_vendidos_loja4.head()\n",
        "print('Produtos mais vendidos loja4:')\n",
        "print(mais_vendido_loja4)"
      ],
      "metadata": {
        "id": "qoyjqijQZHfF",
        "colab": {
          "base_uri": "https://localhost:8080/"
        },
        "outputId": "3f3b0ae2-d899-4864-edea-be52172fb1ed"
      },
      "execution_count": 7,
      "outputs": [
        {
          "output_type": "stream",
          "name": "stdout",
          "text": [
            "Produtos mais vendidos loja:\n",
            "Produto\n",
            "Assistente virtual       1\n",
            "Mesa de jantar           1\n",
            "Jogo de tabuleiro        1\n",
            "Micro-ondas              1\n",
            "Cadeira de escritório    1\n",
            "Name: count, dtype: int64\n",
            "Produtos mais vendidos loja2:\n",
            "Produto\n",
            "Cadeira de escritório    2\n",
            "Cama king                2\n",
            "Pandeiro                 1\n",
            "Name: count, dtype: int64\n",
            "Produtos mais vendidos loja3:\n",
            "Produto\n",
            "Secadora de roupas    1\n",
            "Cômoda                1\n",
            "Violão                1\n",
            "Bola de vôlei         1\n",
            "Guarda roupas         1\n",
            "Name: count, dtype: int64\n",
            "Produtos mais vendidos loja4:\n",
            "Produto\n",
            "Lava louças            1\n",
            "Cama box               1\n",
            "Bola de basquete       1\n",
            "Modelagem preditiva    1\n",
            "Fone de ouvido         1\n",
            "Name: count, dtype: int64\n"
          ]
        }
      ]
    },
    {
      "cell_type": "code",
      "source": [
        "menos_vendido_loja = produtos_vendidos_loja.tail()\n",
        "print('Produtos menos vendidos loja:')\n",
        "print(menos_vendido_loja)\n",
        "\n",
        "menos_vendido_loja2 = produtos_vendidos_loja2.tail()\n",
        "print('Produtos menos vendidos loja2:')\n",
        "print(menos_vendido_loja2)\n",
        "\n",
        "menos_vendido_loja3 = produtos_vendidos_loja3.tail()\n",
        "print('Produtos menos vendidos loja3:')\n",
        "print(menos_vendido_loja3)\n",
        "\n",
        "menos_vendido_loja4 = produtos_vendidos_loja4.tail()\n",
        "print('Produtos menos vendidos loja4:')\n",
        "print(menos_vendido_loja4)"
      ],
      "metadata": {
        "id": "0Sw3sd4IZIGW",
        "colab": {
          "base_uri": "https://localhost:8080/"
        },
        "outputId": "e3ee0ac0-265c-4678-e0eb-ee122a86dee6"
      },
      "execution_count": 8,
      "outputs": [
        {
          "output_type": "stream",
          "name": "stdout",
          "text": [
            "Produtos menos vendidos loja:\n",
            "Produto\n",
            "Assistente virtual       1\n",
            "Mesa de jantar           1\n",
            "Jogo de tabuleiro        1\n",
            "Micro-ondas              1\n",
            "Cadeira de escritório    1\n",
            "Name: count, dtype: int64\n",
            "Produtos menos vendidos loja2:\n",
            "Produto\n",
            "Cadeira de escritório    2\n",
            "Cama king                2\n",
            "Pandeiro                 1\n",
            "Name: count, dtype: int64\n",
            "Produtos menos vendidos loja3:\n",
            "Produto\n",
            "Secadora de roupas    1\n",
            "Cômoda                1\n",
            "Violão                1\n",
            "Bola de vôlei         1\n",
            "Guarda roupas         1\n",
            "Name: count, dtype: int64\n",
            "Produtos menos vendidos loja4:\n",
            "Produto\n",
            "Lava louças            1\n",
            "Cama box               1\n",
            "Bola de basquete       1\n",
            "Modelagem preditiva    1\n",
            "Fone de ouvido         1\n",
            "Name: count, dtype: int64\n"
          ]
        }
      ]
    },
    {
      "cell_type": "markdown",
      "source": [
        "# 5. Frete Médio por Loja\n"
      ],
      "metadata": {
        "id": "Fl0cGi3bZKqU"
      }
    },
    {
      "cell_type": "code",
      "source": [
        "frete_medio_loja = df['Frete'].mean()\n",
        "frete_medio_loja2 = df2['Frete'].mean()\n",
        "frete_medio_loja3 = df3['Frete'].mean()\n",
        "frete_medio_loja4 = df4['Frete'].mean()\n",
        "\n",
        "print(f'Frete médio - loja: {frete_medio_loja: .2f}')\n",
        "print(f'Frete médio - loja2: {frete_medio_loja2: .2f}')\n",
        "print(f'Frete médio - loja3: {frete_medio_loja3: .2f}')\n",
        "print(f'Frete médio - loja4: {frete_medio_loja4: .2f}')"
      ],
      "metadata": {
        "id": "S2JeaCykZNy9",
        "colab": {
          "base_uri": "https://localhost:8080/"
        },
        "outputId": "4cbda6f2-e0ee-4c6c-c16b-75e1964d98bd"
      },
      "execution_count": 9,
      "outputs": [
        {
          "output_type": "stream",
          "name": "stdout",
          "text": [
            "Frete médio - loja:  24.68\n",
            "Frete médio - loja2:  28.59\n",
            "Frete médio - loja3:  33.85\n",
            "Frete médio - loja4:  23.53\n"
          ]
        }
      ]
    },
    {
      "cell_type": "code",
      "source": [
        "frete_medio = [24.68, 28.59, 33.85, 23.53]\n",
        "avaliacoes = [3.00, 3.60, 3.40, 4.20]\n",
        "\n",
        "plt.figure(figsize=(8, 5))\n",
        "plt.scatter(frete_medio, avaliacoes, color='red')\n",
        "plt.xlabel('Frete Médio (R$)')\n",
        "plt.ylabel('Avaliação Média')\n",
        "plt.title('Relação entre Frete e Avaliação das Lojas')\n",
        "plt.grid()\n",
        "plt.show()"
      ],
      "metadata": {
        "id": "0tSdCie9ZQlt",
        "colab": {
          "base_uri": "https://localhost:8080/",
          "height": 487
        },
        "outputId": "a26330a3-2a86-4f95-ca8a-aff55be1338f"
      },
      "execution_count": 10,
      "outputs": [
        {
          "output_type": "display_data",
          "data": {
            "text/plain": [
              "<Figure size 800x500 with 1 Axes>"
            ],
            "image/png": "[encoded data removed]"
          },
          "metadata": {}
        }
      ]
    },
    {
      "cell_type": "markdown",
      "source": [
        "# Relatório Final de Análise de Desempenho das Lojas\n",
        "\n",
        "## Introdução\n",
        "Este relatório tem como objetivo avaliar o desempenho das lojas com base em fatores como faturamento total, distribuição das categorias de produtos, média das avaliações dos clientes, produtos mais vendidos e custo médio de frete. A partir da análise dos dados e das visualizações geradas, será possível identificar a loja que apresenta menor viabilidade financeira e recomendar a sua venda.\n",
        "\n",
        "## Faturamento Total das Lojas\n",
        "A análise do faturamento revelou que algumas lojas têm um desempenho superior, enquanto outras apresentam dificuldades em termos de vendas. O gráfico de barras destacou que a Loja obteve o menor faturamento em comparação com as demais, sugerindo uma baixa rentabilidade.\n",
        "\n",
        "## Categorias de Produtos Mais e Menos Vendidos\n",
        "A distribuição das vendas por categoria mostrou que produtos eletrônicos e móveis possuem uma participação expressiva nas vendas, enquanto brinquedos e eletrodomésticos têm menor representatividade. Isso indica que a oferta de categorias menos procuradas pode estar impactando negativamente o desempenho de algumas lojas.\n",
        "\n",
        "## Média de Avaliação das Lojas\n",
        "A média de avaliação dos clientes revelou discrepâncias entre as lojas. A Loja 4 obteve as melhores avaliações, refletindo um nível elevado de satisfação dos clientes, enquanto a Loja teve as menores avaliações, indicando problemas com atendimento, qualidade dos produtos ou logística.\n",
        "\n",
        "## Produtos Mais e Menos Vendidos\n",
        "O levantamento dos produtos mais vendidos evidenciou que determinados itens apresentam alta demanda, enquanto outros têm vendas insignificantes. Produtos com baixa saída podem comprometer a lucratividade e gerar estoque acumulado, impactando negativamente a loja.\n",
        "\n",
        "## Custo Médio de Frete\n",
        "O gráfico de dispersão demonstrou que a Loja 3 possui um custo de frete médio elevado, o que pode afastar clientes e reduzir a competitividade em relação às demais lojas. Fretes elevados costumam ser um fator de desistência na hora da compra.\n",
        "\n",
        "## Conclusão e Recomendação\n",
        "Com base nas análises realizadas, podemos concluir que a Loja apresenta o pior desempenho em múltiplos aspectos: faturamento reduzido, baixa avaliação dos clientes, categorias de produtos menos vendidas e custo elevado de frete. Esses fatores contribuem para uma menor lucratividade e tornam essa loja a candidata ideal para venda.\n",
        "\n",
        "Recomenda-se que o responsável avalie as possibilidades de venda dessa unidade, buscando investidores ou alternativas para minimizar os prejuízos. Além disso, as lojas restantes podem adotar estratégias para melhorar suas avaliações e ajustar o mix de produtos para maximizar o faturamento."
      ],
      "metadata": {
        "id": "5Tu05IUqFthk"
      }
    }
  ]
}